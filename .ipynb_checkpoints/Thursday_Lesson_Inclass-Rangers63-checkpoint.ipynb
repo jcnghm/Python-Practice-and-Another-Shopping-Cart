{
 "cells": [
  {
   "cell_type": "markdown",
   "metadata": {},
   "source": [
    "# Object-Oriented-Programming (OOP)"
   ]
  },
  {
   "cell_type": "markdown",
   "metadata": {},
   "source": [
    "## Tasks Today:\n",
    "\n",
    "   \n",
    "\n",
    "1) <b>Creating a Class (Initializing/Declaring)</b> <br>\n",
    "2) <b>Using a Class (Instantiating)</b> <br>\n",
    " &nbsp;&nbsp;&nbsp;&nbsp; a) Creating One Instance <br>\n",
    " &nbsp;&nbsp;&nbsp;&nbsp; b) Creating Multiple Instances <br>\n",
    " &nbsp;&nbsp;&nbsp;&nbsp; c) In-Class Exercise #1 - Create a Class 'Car' and instantiate three different makes of cars <br>\n",
    "3) <b>The \\__init\\__() Method</b> <br>\n",
    " &nbsp;&nbsp;&nbsp;&nbsp; a) The 'self' Attribute <br>\n",
    "4) <b>Class Attributes</b> <br>\n",
    " &nbsp;&nbsp;&nbsp;&nbsp; a) Initializing Attributes <br>\n",
    " &nbsp;&nbsp;&nbsp;&nbsp; b) Setting an Attribute Outside of the \\__init\\__() Method <br>\n",
    " &nbsp;&nbsp;&nbsp;&nbsp; c) Setting Defaults for Attributes <br>\n",
    " &nbsp;&nbsp;&nbsp;&nbsp; d) Accessing Class Attributes <br>\n",
    " &nbsp;&nbsp;&nbsp;&nbsp; e) Changing Class Attributes <br>\n",
    " &nbsp;&nbsp;&nbsp;&nbsp; f) In-Class Exercise #2 - Add a color and wheels attribute to your 'Car' class <br>\n",
    "5) <b>Class Methods</b> <br>\n",
    " &nbsp;&nbsp;&nbsp;&nbsp; a) Creating <br>\n",
    " &nbsp;&nbsp;&nbsp;&nbsp; b) Calling <br>\n",
    " &nbsp;&nbsp;&nbsp;&nbsp; c) Modifying an Attribute's Value Through a Method <br>\n",
    " &nbsp;&nbsp;&nbsp;&nbsp; d) Incrementing an Attribute's Value Through a Method <br>\n",
    " &nbsp;&nbsp;&nbsp;&nbsp; e) In-Class Exercise #3 - Add a method that prints the cars color and wheel number, then call them <br>\n",
    "6) <b>Inheritance</b> <br>\n",
    " &nbsp;&nbsp;&nbsp;&nbsp; a) Syntax for Inheriting from a Parent Class <br>\n",
    " &nbsp;&nbsp;&nbsp;&nbsp; b) The \\__init\\__() Method for a Child Class (super()) <br>\n",
    " &nbsp;&nbsp;&nbsp;&nbsp; c) Defining Attributes and Methods for the Child Class <br>\n",
    " &nbsp;&nbsp;&nbsp;&nbsp; d) Method Overriding <br>\n",
    " &nbsp;&nbsp;&nbsp;&nbsp; e) In-Class Exercise #4 - Create a class 'Ford' that inherits from 'Car' class and initialize it as a Blue Ford Explorer with 4 wheels using the super() method <br>\n",
    "7) <b>Classes as Attributes</b> <br>\n",
    "8) <b>Exercises</b> <br>\n",
    " &nbsp;&nbsp;&nbsp;&nbsp; a) Exercise #1 - Turn the shopping cart program from yesterday into an object-oriented program <br>"
   ]
  },
  {
   "cell_type": "markdown",
   "metadata": {},
   "source": [
    "## Creating a Class (Initializing/Declaring)\n",
    "<p>When creating a class, function, or even a variable you are initializing that object. Initializing and Declaring occur at the same time in Python, whereas in lower level languages you have to declare an object before initializing it. This is the first step in the process of using a class.</p>"
   ]
  },
  {
   "cell_type": "code",
   "execution_count": null,
   "metadata": {},
   "outputs": [],
   "source": [
    "class Car():\n",
    "    wheels = 4\n",
    "    color = 'blue'\n",
    "    horn = 'beep'"
   ]
  },
  {
   "cell_type": "markdown",
   "metadata": {},
   "source": [
    "## Using a Class (Instantiating)\n",
    "<p>The process of creating a class is called <i>Instantiating</i>. Each time you create a variable of that type of class, it is referred to as an <i>Instance</i> of that class. This is the second step in the process of using a class.</p>"
   ]
  },
  {
   "cell_type": "markdown",
   "metadata": {},
   "source": [
    "##### Creating One Instance"
   ]
  },
  {
   "cell_type": "code",
   "execution_count": null,
   "metadata": {},
   "outputs": [],
   "source": [
    "ford = Car()\n",
    "print(ford.color)\n",
    "print(ford.wheels)"
   ]
  },
  {
   "cell_type": "markdown",
   "metadata": {},
   "source": [
    "##### Creating Multiple Instances"
   ]
  },
  {
   "cell_type": "code",
   "execution_count": null,
   "metadata": {},
   "outputs": [],
   "source": [
    "mazda3 = Car()\n",
    "honda = Car()\n",
    "jeep = Car()\n",
    "toyota = Car()\n",
    "\n",
    "print(mazda3.color)\n",
    "print(type(mazda3.wheels))\n",
    "\n",
    "print(toyota.horn)"
   ]
  },
  {
   "cell_type": "markdown",
   "metadata": {},
   "source": [
    "##### In-Class Exercise #1 - Create a Class 'Car' and Instantiate three different makes of cars"
   ]
  },
  {
   "cell_type": "code",
   "execution_count": null,
   "metadata": {},
   "outputs": [],
   "source": [
    "class Car():\n",
    "    color = 'grey'\n",
    "    drive = 'four wheel'\n",
    "    wheels = 'four'\n",
    "    \n",
    "toyota = Car()\n",
    "ford = Car()\n",
    "chevy = Car()\n",
    "\n",
    "print(toyota.color)        "
   ]
  },
  {
   "cell_type": "markdown",
   "metadata": {},
   "source": [
    "## The \\__init\\__() Method <br>\n",
    "<p>This method is used in almost every created class, and called only once upon the creation of the class instance. This method will initialize all variables needed for the object.</p>"
   ]
  },
  {
   "cell_type": "code",
   "execution_count": null,
   "metadata": {},
   "outputs": [],
   "source": [
    "class Car():\n",
    "    engine = '4.7L'\n",
    "    \n",
    "    def __init__(self, wheels, color):\n",
    "        self.wheels = wheels\n",
    "        self.color = color\n",
    "#     def __init__(self):\n",
    "#         self.moves = print('moves')\n",
    "    \n",
    "fiat = Car(4, 'white')\n",
    "chevy_lumina = Car(4, 'dark green')\n",
    "\n",
    "print(fiat.color)\n",
    "print(chevy_lumina.color)\n",
    "\n",
    "\n",
    "\n",
    "fiat.__dict__\n"
   ]
  },
  {
   "cell_type": "markdown",
   "metadata": {},
   "source": [
    "##### The 'self' Attribute <br>\n",
    "<p>This attribute is required to keep track of specific instance's attributes. Without the self attribute, the program would not know how to reference or keep track of an instance's attributes.</p>"
   ]
  },
  {
   "cell_type": "code",
   "execution_count": null,
   "metadata": {},
   "outputs": [],
   "source": [
    "# see above\n",
    "\n",
    "\n",
    "        "
   ]
  },
  {
   "cell_type": "markdown",
   "metadata": {},
   "source": [
    "## Class Attributes <br>\n",
    "<p>While variables are inside of a class, they are referred to as attributes and not variables. When someone says 'attribute' you know they're speaking about a class. Attributes can be initialized through the init method, or outside of it.</p>"
   ]
  },
  {
   "cell_type": "markdown",
   "metadata": {},
   "source": [
    "##### Initializing Attributes"
   ]
  },
  {
   "cell_type": "code",
   "execution_count": null,
   "metadata": {},
   "outputs": [],
   "source": [
    "# see above\n",
    "\n",
    "class Toy():\n",
    "    kind = 'car' # doesnt change frequ\n",
    "    def __init__(self, color, size, rc):\n",
    "        self.color = color\n",
    "        self.size = size\n",
    "        self.rc = rc\n",
    "        \n",
    "flippy_guy_car = Toy('red','medium',True)\n",
    "hotwheels = Toy('many', 'small', False)\n",
    "tonka = Toy('yellow', 'large', False)\n",
    "\n",
    "print(flippy_guy_car.kind)\n",
    "print(flippy_guy_car.rc)\n",
    "print(hotwheels.kind)\n",
    "print(hotwheels.size)\n",
    "print(tonka.color)\n",
    "\n",
    "print(f\"this is a toy {flippy_guy_car.kind} and it {flippy_guy_car.size}\")"
   ]
  },
  {
   "cell_type": "markdown",
   "metadata": {},
   "source": [
    "##### Accessing Class Attributes"
   ]
  },
  {
   "cell_type": "code",
   "execution_count": null,
   "metadata": {
    "scrolled": true
   },
   "outputs": [],
   "source": [
    "# See Above\n",
    "\n",
    "print(tonka.color)"
   ]
  },
  {
   "cell_type": "markdown",
   "metadata": {},
   "source": [
    "##### Setting Defaults for Attributes"
   ]
  },
  {
   "cell_type": "code",
   "execution_count": null,
   "metadata": {},
   "outputs": [],
   "source": [
    "class Car():\n",
    "    engine = '4.7L'\n",
    "    \n",
    "    def __init__(self, wheels):\n",
    "        self.wheels = wheels\n",
    "        self.color = 'blue' # this is a default attribute\n",
    "        \n",
    "jeep = Car(8)\n",
    "honda = Car(4)\n",
    "\n",
    "print(jeep.wheels)\n",
    "print(jeep.color)"
   ]
  },
  {
   "cell_type": "markdown",
   "metadata": {},
   "source": [
    "##### Changing Class Attributes <br>\n",
    "<p>Keep in mind there are global class attributes and then there are attributes only available to each class instance which won't effect other classes.</p>"
   ]
  },
  {
   "cell_type": "code",
   "execution_count": null,
   "metadata": {},
   "outputs": [],
   "source": [
    "print(f'Before changes: {jeep.color}')\n",
    "jeep.color = 'white'\n",
    "print(f'After changes: {jeep.color}')"
   ]
  },
  {
   "cell_type": "code",
   "execution_count": null,
   "metadata": {},
   "outputs": [],
   "source": []
  },
  {
   "cell_type": "markdown",
   "metadata": {},
   "source": [
    "##### In-Class Exercise #2 - Add a doors and seats attribute to your 'Car' class then print out two different instances with different doors and seats"
   ]
  },
  {
   "cell_type": "code",
   "execution_count": null,
   "metadata": {},
   "outputs": [],
   "source": [
    "class Car():\n",
    "    def __init__(self, doors, seats):\n",
    "        self.doors = doors\n",
    "        self.seats = seats\n",
    "jeep = Car(4, 5)\n",
    "toyota = Car(7,6)\n",
    "\n",
    "print(jeep.doors)\n",
    "print(jeep.seats)\n",
    "\n",
    "print(toyota.doors)\n",
    "print(toyota.seats)\n",
    "    "
   ]
  },
  {
   "cell_type": "markdown",
   "metadata": {},
   "source": [
    "## Class Methods <br>\n",
    "<p>While inside of a class, functions are referred to as 'methods'. If you hear someone mention methods, they're speaking about classes. Methods are essentially functions, but only callable on the instances of a class.</p>"
   ]
  },
  {
   "cell_type": "markdown",
   "metadata": {},
   "source": [
    "##### Creating"
   ]
  },
  {
   "cell_type": "code",
   "execution_count": 1,
   "metadata": {},
   "outputs": [],
   "source": [
    "class Inventory():\n",
    "    \"\"\"\n",
    "    The Inventory class will have a capacity and items that we can place inside of it\n",
    "    \n",
    "    Attributes for the class:\n",
    "    -capacity: expected to be a string OR integer\n",
    "    -items: expected to be a list \n",
    "    \"\"\"\n",
    "    def __init__(self, capacity, items):\n",
    "        self.capacity = capacity\n",
    "        self.items = items\n",
    "        \n",
    "    # Method that shows our inventory\n",
    "    def showInventory(self):\n",
    "        print(\"Here are your adventuring supplies: \")\n",
    "#         for item in self.items:\n",
    "#             print(item)\n",
    "        if self.items == []:\n",
    "            print(\"You have no loots!\")\n",
    "        else:\n",
    "            for item in self.items:\n",
    "                print(item)\n",
    "            \n",
    "    # Show the capacity of our inventory\n",
    "    \n",
    "    def showCapacity(self):\n",
    "        print(f\"Your carrying capacity is: {self.capacity}\")\n",
    "        \n",
    "    # Add items to your items list for your inventory\n",
    "    \n",
    "    def addToInventory(self):\n",
    "        supplies = input(\"What dank lootz have you gathered? \")\n",
    "        self.items.append(supplies)\n",
    "        \n",
    "    # Change the capacity of our inventory\n",
    "    \n",
    "    def changeInventoryCapacity(self, capacity):\n",
    "        self.capacity = capacity\n",
    "        \n",
    "    # Increase Capacity of our Inventory by 10 -- default\n",
    "    \n",
    "    def increaseCapacity(self, changed_capacity=10):\n",
    "        if self.capacity == isinstance(self.capacity, str):\n",
    "            print(\"You  shall not pass... that into your inventory\")\n",
    "        else:\n",
    "            self.capacity += changed_capacity"
   ]
  },
  {
   "cell_type": "markdown",
   "metadata": {},
   "source": [
    "##### Calling"
   ]
  },
  {
   "cell_type": "code",
   "execution_count": null,
   "metadata": {},
   "outputs": [],
   "source": [
    "# See Above\n",
    "\n",
    "# Create an instance of our Inventory Class\n",
    "\n",
    "wizard_bag = Inventory(10, [])\n",
    "\n",
    "# Create a function that will run the inventory(wizard_bag) methods\n",
    "\n",
    "def run():\n",
    "    while True:\n",
    "        response = input(\"What would like to do? add/show/quit\")\n",
    "        \n",
    "        if response.lower() == 'quit':\n",
    "            wizard_bag.showInventory()\n",
    "            print(\"ONWARD!\")\n",
    "            break\n",
    "        elif response.lower() == \"add\":\n",
    "            wizard_bag.addToInventory()\n",
    "        elif response.lower() == \"show\":\n",
    "            wizard_bag.showInventory()\n",
    "            \n",
    "run()\n",
    "        "
   ]
  },
  {
   "cell_type": "markdown",
   "metadata": {},
   "source": [
    "##### Modifying an Attribute's Value Through a Method"
   ]
  },
  {
   "cell_type": "code",
   "execution_count": 2,
   "metadata": {},
   "outputs": [
    {
     "name": "stdout",
     "output_type": "stream",
     "text": [
      "Your carrying capacity is: 10\n",
      "Capacity AFTER the change...\n",
      "Your carrying capacity is: 15\n"
     ]
    }
   ],
   "source": [
    "# show capacity\n",
    "wizard_bag = Inventory(10, [])\n",
    "\n",
    "wizard_bag.showCapacity()\n",
    "print(f\"Capacity AFTER the change...\")\n",
    "\n",
    "wizard_bag.changeInventoryCapacity(15)\n",
    "wizard_bag.showCapacity()"
   ]
  },
  {
   "cell_type": "markdown",
   "metadata": {},
   "source": [
    "##### Incrementing an Attribute's Value Through a Method"
   ]
  },
  {
   "cell_type": "code",
   "execution_count": null,
   "metadata": {},
   "outputs": [],
   "source": [
    "\n",
    "wizard_bag.showCapacity()\n",
    "print(\"Capacity after increment method change: \")\n",
    "wizard_bag.increaseCapacity()\n",
    "wizard_bag.showCapacity()"
   ]
  },
  {
   "cell_type": "markdown",
   "metadata": {},
   "source": [
    "##### In-Class Exercise #3 - Add a method that takes in three parameters of year, doors and seats and prints out a formatted print statement with make, model, year, seats, and doors"
   ]
  },
  {
   "cell_type": "code",
   "execution_count": 7,
   "metadata": {},
   "outputs": [
    {
     "name": "stdout",
     "output_type": "stream",
     "text": [
      "This car is from 2019 and is a Ford Explorer and has 4 doors and 5 seats.\n"
     ]
    }
   ],
   "source": [
    "# Create class with 2 paramters inside of the __init__ which are make and model\n",
    "\n",
    "class Car():\n",
    "    def __init__(self, make, model):\n",
    "        self.make = make\n",
    "        self.model = model\n",
    "        \n",
    "\n",
    "# Inside of the Car class create a method that has 4 parameter in total (self,year,door,seats)\n",
    "    \n",
    "    def carDesc(self,year,door,seats):\n",
    "        self.year = year\n",
    "        self.door = door\n",
    "        self.seats = seats\n",
    "        \n",
    "ford = Car('Ford', 'Explorer')\n",
    "\n",
    "ford.carDesc('2019', '4', '5')\n",
    "\n",
    "# Output: This car is from 2019 and is a Ford Expolorer and has 4 doors and 5 seats\n",
    "\n",
    "print(f\"This car is from {ford.year} and is a {ford.make} {ford.model} and has {ford.door} doors and {ford.seats} seats.\")"
   ]
  },
  {
   "cell_type": "markdown",
   "metadata": {},
   "source": [
    "## Inheritance <br>\n",
    "<p>You can create a child-parent relationship between two classes by using inheritance. What this allows you to do is have overriding methods, but also inherit traits from the parent class. Think of it as an actual parent and child, the child will inherit the parent's genes, as will the classes in OOP</p>"
   ]
  },
  {
   "cell_type": "markdown",
   "metadata": {},
   "source": [
    "##### Syntax for Inheriting from a Parent Class"
   ]
  },
  {
   "cell_type": "code",
   "execution_count": 13,
   "metadata": {},
   "outputs": [
    {
     "name": "stdout",
     "output_type": "stream",
     "text": [
      "Howl\n",
      "Make some generic animal sound like a grunt\n",
      "9.8\n",
      "15\n",
      "9.8\n",
      "dog\n"
     ]
    }
   ],
   "source": [
    "# Creation of our Parent Class -- Animal\n",
    "\n",
    "class Animal():\n",
    "    ACCELERATION = 9.8 # constant\n",
    "    \n",
    "    def __init__(self, name, species, legs=4):\n",
    "        self.name = name\n",
    "        self.species = species\n",
    "        self.legs = legs\n",
    "        \n",
    "    # Generic Parent(Animal) Method  --  No Overide\n",
    "    \n",
    "    def makeSound(self):\n",
    "        print('Make some generic animal sound like a grunt')\n",
    "        \n",
    "class Dog(Animal):  # PARENT LIVES IN THE PARENTHESIS ON THE CHILD CLASS\n",
    "    SPEED = 15\n",
    "    \n",
    "    def printInfo(self):\n",
    "        print(f\"The dog can run {self.SPEED}mph and can accelerate at {self.ACCELERATION}\")\n",
    "        \n",
    "class Mut(Dog):\n",
    "    COLOR = \"Black Roan\"\n",
    "    \n",
    "    #Overriding of the Animal Class __init__ method using the Dog Class\n",
    "    \n",
    "    def __init__(self, name, species, eye_color, legs=4):\n",
    "        Dog.__init__(self,name,species,legs)\n",
    "        self.eye_color = eye_color\n",
    "        \n",
    "    #Override the makeSound method coming from the Animal class\n",
    "    \n",
    "    def makeSound(self):\n",
    "        noise = \"Howl\"\n",
    "        return noise\n",
    "    \n",
    "lassie = Dog('lassie', 'dog')\n",
    "\n",
    "basic_animal = Animal('Generic animal name', 'Generic animal species')\n",
    "\n",
    "duke = Mut('duke', 'mut', 'Black Roan')\n",
    "\n",
    "# see the instanciations just above to see where they are pulling from\n",
    "\n",
    "print(duke.makeSound()) # printing the local class mut makeSound\n",
    "basic_animal.makeSound() # pulls from Anmial class and the top\n",
    "print(duke.ACCELERATION) #pulling all the way from Animal class\n",
    "print(duke.SPEED) # the grandchild class mut is pulling from the above parent method\n",
    "print(lassie.ACCELERATION)   \n",
    "print(lassie.species)\n",
    "    "
   ]
  },
  {
   "cell_type": "markdown",
   "metadata": {},
   "source": [
    "##### The \\__init\\__() Method for a Child Class - super()"
   ]
  },
  {
   "cell_type": "code",
   "execution_count": 18,
   "metadata": {
    "scrolled": true
   },
   "outputs": [
    {
     "name": "stdout",
     "output_type": "stream",
     "text": [
      "Make some generic animal sound like a grunt\n",
      "Make some generic animal sound like a grunt\n",
      "AWOOOO\n",
      "9.8\n"
     ]
    }
   ],
   "source": [
    "class Mut(Dog):\n",
    "    COLOR = \"black and brown\"\n",
    "    \n",
    "    #Overriding the Animal Class with the Dog class\n",
    "    \n",
    "    def __init__(self, name, species, eye_color, legs=4):\n",
    "        super().__init__(name,species,legs)  #super inherits from all parents\n",
    "        self.eye_color = eye_color\n",
    "        \n",
    "    # Override makeSound method again that comes from Animal class\n",
    "    \n",
    "    def makeSound(self):\n",
    "        noise = 'AWOOOO'\n",
    "        return noise\n",
    "    \n",
    "lassie = Dog('Lassie', 'Dog')\n",
    "basic_animal = Animal('Todd', 'Wildebeest')\n",
    "buster = Mut('Buster', 'Mut', 'black')\n",
    "\n",
    "lassie.makeSound()\n",
    "basic_animal.makeSound()\n",
    "print(buster.makeSound())\n",
    "print(buster.ACCELERATION)\n",
    "\n",
    "    \n",
    "    \n",
    "    \n",
    "    "
   ]
  },
  {
   "cell_type": "markdown",
   "metadata": {},
   "source": [
    "##### Defining Attributes and Methods for the Child Class"
   ]
  },
  {
   "cell_type": "code",
   "execution_count": null,
   "metadata": {},
   "outputs": [],
   "source": [
    "# See Above"
   ]
  },
  {
   "cell_type": "markdown",
   "metadata": {},
   "source": [
    "##### Method Overriding"
   ]
  },
  {
   "cell_type": "code",
   "execution_count": null,
   "metadata": {},
   "outputs": [],
   "source": [
    "# See Above"
   ]
  },
  {
   "cell_type": "markdown",
   "metadata": {},
   "source": [
    "## Classes as Attributes <br>\n",
    "<p>Classes can also be used as attributes within another class. This is useful in situations where you need to keep variables locally stored, instead of globally stored.</p>"
   ]
  },
  {
   "cell_type": "code",
   "execution_count": 23,
   "metadata": {},
   "outputs": [
    {
     "name": "stdout",
     "output_type": "stream",
     "text": [
      "20\n",
      "2008 Toyota Prius 20\n",
      "7.8\n"
     ]
    }
   ],
   "source": [
    "class Battery():\n",
    "    VOLTS = 7.8\n",
    "    \n",
    "    def __init__(self,cells):\n",
    "        self.cells = cells\n",
    "        \n",
    "class Car():\n",
    "    def __init__(self, year, make,model,battery):\n",
    "        self.year = year\n",
    "        self.make = make\n",
    "        self.model = model\n",
    "        self.battery = battery\n",
    "        \n",
    "    def printInfo(self):\n",
    "        return f\"{self.year} {self.make} {self.model} {self.battery.cells}\"\n",
    "    \n",
    "battery = Battery(20)\n",
    "\n",
    "prius = Car(2008, 'Toyota', 'Prius', battery)\n",
    "#prius.__dict__\n",
    "\n",
    "print(prius.battery.cells)\n",
    "print(prius.printInfo())\n",
    "prius.printInfo()\n",
    "print(battery.VOLTS)"
   ]
  },
  {
   "cell_type": "markdown",
   "metadata": {},
   "source": [
    "# Exercises"
   ]
  },
  {
   "cell_type": "markdown",
   "metadata": {},
   "source": [
    "### Exercise 1 - Turn the shopping cart program from yesterday into an object-oriented program\n",
    "\n",
    "The comments in the cell below are there as a guide for thinking about the problem. However, if you feel a different way is best for you and your own thought process, please do what feels best for you by all means."
   ]
  },
  {
   "cell_type": "code",
   "execution_count": 46,
   "metadata": {},
   "outputs": [
    {
     "name": "stdout",
     "output_type": "stream",
     "text": [
      "What would like to do? Add/Show/Delete/Quitadd\n",
      "What would you like to add to your cart? (item, price) beer, 2\n",
      "What would like to do? Add/Show/Delete/Quitadd\n",
      "What would you like to add to your cart? (item, price) wine, 3\n",
      "What would like to do? Add/Show/Delete/Quitdelete\n",
      "What item would you like to remove? wine, 3\n",
      "What would like to do? Add/Show/Delete/Quitquit\n",
      "Items in your cart: \n",
      "beer, 2\n",
      "Thank you for shopping with us!\n"
     ]
    }
   ],
   "source": [
    "# Create a class called cart that retains items and has methods to add, remove, and show\n",
    "\n",
    "\n",
    "# Shopping Cart Homework Week 2 Day 4\n",
    "\n",
    "\n",
    "# Object Oriented Shopping Cart:\n",
    "\n",
    "class Shopping_Cart():\n",
    "\n",
    "    def __init__(self, capacity, items):\n",
    "        self.capacity = capacity\n",
    "        self.items = items\n",
    "\n",
    "    def showCart(self):\n",
    "        print(\"Items in your cart: \")\n",
    "        if self.items == []:\n",
    "            print(\"Your cart is empty.\")\n",
    "        else:\n",
    "            for item in self.items:\n",
    "                print(item)\n",
    "\n",
    "    def addToCart(self):\n",
    "        goods = input(\"What would you like to add to your cart? (item, price) \")\n",
    "        self.items.append(goods)\n",
    "\n",
    "    def deleteCart(self):\n",
    "        delete_item = input(\"What item would you like to remove? \")\n",
    "        self.items.remove(delete_item)\n",
    "\n",
    "your_cart = Shopping_Cart(10, [])\n",
    "\n",
    "# Function to run the Shopping Cart Program:\n",
    "\n",
    "def shop():\n",
    "    while True:\n",
    "        response = input(\"What would like to do? Add/Show/Delete/Quit\")\n",
    "        \n",
    "        if response.lower() == 'quit':\n",
    "            your_cart.showCart()\n",
    "            print(\"Thank you for shopping with us!\")\n",
    "            break\n",
    "        elif response.lower() == \"add\":\n",
    "            your_cart.addToCart()\n",
    "        elif response.lower() == \"show\":\n",
    "            your_cart.showCart()\n",
    "        elif response.lower() == \"delete\":\n",
    "            your_cart.deleteCart()\n",
    "         \n",
    "shop()    "
   ]
  },
  {
   "cell_type": "markdown",
   "metadata": {},
   "source": [
    "### Exercise 2 - Write a Python class which has two methods get_String and print_String. get_String accept a string from the user and print_String print the string in upper case"
   ]
  },
  {
   "cell_type": "code",
   "execution_count": 45,
   "metadata": {},
   "outputs": [
    {
     "name": "stdout",
     "output_type": "stream",
     "text": [
      "what is your string Hello\n",
      "{'Hello'}\n"
     ]
    }
   ],
   "source": [
    "class String():  \n",
    "    \n",
    "    def __init__(self):\n",
    "        pass\n",
    "    \n",
    "    def getInput(self):\n",
    "        self.userinput = input(\"what is your string \")\n",
    "        \n",
    "    def printString(self):\n",
    "        print({self.userinput})\n",
    "\n",
    "string = String()\n",
    "\n",
    "string.getInput()\n",
    "\n",
    "string.printString()\n",
    "\n",
    "\n"
   ]
  }
 ],
 "metadata": {
  "kernelspec": {
   "display_name": "Python 3",
   "language": "python",
   "name": "python3"
  },
  "language_info": {
   "codemirror_mode": {
    "name": "ipython",
    "version": 3
   },
   "file_extension": ".py",
   "mimetype": "text/x-python",
   "name": "python",
   "nbconvert_exporter": "python",
   "pygments_lexer": "ipython3",
   "version": "3.8.8"
  }
 },
 "nbformat": 4,
 "nbformat_minor": 2
}
